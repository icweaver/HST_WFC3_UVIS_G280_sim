{
 "cells": [
  {
   "cell_type": "code",
   "execution_count": 1,
   "metadata": {},
   "outputs": [],
   "source": [
    "%load_ext autoreload\n",
    "%autoreload 2"
   ]
  },
  {
   "cell_type": "markdown",
   "metadata": {},
   "source": [
    "# UVIS G280 Simulator compared to published data\n",
    "This notebook runs the simulator and compares the output to the data published in Wakeford et al. (2020, AJ)\n",
    "We then plot the results to visually show the application of the simulator. \n",
    "\n"
   ]
  },
  {
   "cell_type": "code",
   "execution_count": 2,
   "metadata": {},
   "outputs": [],
   "source": [
    "import UVIS_precision_calculator as upc\n",
    "import numpy as np\n",
    "import pandas as pd\n",
    "import matplotlib as mpl\n",
    "import matplotlib.pyplot as plt \n",
    "import matplotlib.gridspec as grid\n",
    "import seaborn as sns\n",
    "\n",
    "sns.set(style=\"ticks\", palette=\"colorblind\", color_codes=True, context=\"talk\")\n",
    "FIG_WIDE = (11, 8)"
   ]
  },
  {
   "cell_type": "code",
   "execution_count": 3,
   "metadata": {},
   "outputs": [],
   "source": [
    "%matplotlib qt5"
   ]
  },
  {
   "cell_type": "markdown",
   "metadata": {},
   "source": [
    "Run the UVIS simulator on the file you want. We will follow the example in the UVIS precision calculator"
   ]
  },
  {
   "cell_type": "markdown",
   "metadata": {},
   "source": [
    "#### INPUT\n",
    "\n",
    "`data_folder = '..Data/'`\n",
    "\tThe place where the ETC output file located\n",
    "\tThe ETC file needs to contain the following information in the correct structure. \n",
    "\tThis file can be self generated if also in this structure.\n",
    "\t(wavelength (A), readnoise, dark_counts, sky_counts, target_counts, total_counts)\n",
    "\tColumns 0 and 4 are used in this calculation, please maintain these column \n",
    "\tpositions for self input files\n",
    "\tWavelength is input from this file in Angstroms \n",
    "\n",
    "`file_name = ['H41_ETC']`\n",
    "\tThis can be an array of filenames \n",
    "\tmake sure it is always in square brackets\n",
    "\n",
    "`exposure_time = [190]` \n",
    "\tThis is an array of exposuretimes corresponding to the \n",
    "\tfilenames listed in file_name\n",
    "\tmake sure it is always in square brackets\n",
    "\n",
    "`orbits_in_transit = [2]` \n",
    "\tThis is an array of the number of HST orbits inside a single\n",
    "\ttransit (not the total observation) corresponding to the\n",
    "\tfilenames listed in file_name\n",
    "\tmake sure it is always in square brackets\n",
    "\n",
    "`no_of_transits = [2]` \n",
    "\tThis is an array of the number of transits of each targets \n",
    "\tin your program corresponding to the filenames listed in\n",
    "\tfile_name make sure it is always in square brackets\n",
    "\n",
    "`wl = [2000,8000]`\n",
    "\tdefault value spans the maximum range of the grism. This will \n",
    "\tcalculate the broadband signal that will be the first line of\n",
    "\tthe produced file. \n",
    "\n",
    "`startw = 2000`\n",
    "\tThis is the starting range for your spectral bins.\n",
    "\tDefault is at minimum = 2000 angstroms. \n",
    "\tWhere this might be changed is for small stars with little \n",
    "\tflux in the short wavelengths. Or if simulating the -1 order\n",
    "\n",
    "`endw = 8000`\n",
    "\tThis is the end of the spectral binning range\n",
    "\tDefault set to the maximum, 8000 angstroms\n",
    "\n",
    "`binlen = 100`\n",
    "\tThis is in angstroms and specifies the size of the \n",
    "\tspectral bins in wavlength space. \n",
    "\tMinimum recommended = 60 angstorms (Wakeford et al 2020 = 100)\n",
    "\n",
    "`out_name = 'string'`\n",
    "\tThis is what you want the output specified as in addition \n",
    "\tto the input name.\n",
    "\n",
    "#### OUTPUT\n",
    "\n",
    "data file for each input planet file:\n",
    "output name = {data_folder}{file_name}.UVIS_{out_name}_sim.txt'\n",
    "\tcontains the broadband {wl} and spectroscopic precisions ({binlen} bins) \n",
    "\twavelength (nm), bin size (nm), precision per transit (ppm), precision per target (ppm)\n"
   ]
  },
  {
   "cell_type": "code",
   "execution_count": 20,
   "metadata": {},
   "outputs": [
    {
     "name": "stdout",
     "output_type": "stream",
     "text": [
      "H41_ETC\n",
      "exp time =  190\n",
      "exp in transit =  23.0\n",
      "exp per orbit =  12.0\n",
      "precision/transit =  37.94149373653571\n",
      "(60, 4)\n",
      "0 [2000, 8000] 100 ['H41_ETC', 'H23_ETC'] [190 190] [2 1] [2 6]\n",
      "Data has been saved as:  H41_ETC.UVIS_10nm_transmission_sim.csv\n",
      "\n",
      "H23_ETC\n",
      "exp time =  190\n",
      "exp in transit =  12.0\n",
      "exp per orbit =  12.0\n",
      "precision/transit =  70.51289074776273\n",
      "(60, 4)\n",
      "1 [2000, 8000] 100 ['H41_ETC', 'H23_ETC'] [190 190] [2 1] [2 6]\n",
      "Data has been saved as:  H23_ETC.UVIS_10nm_transmission_sim.csv\n",
      "\n"
     ]
    }
   ],
   "source": [
    "data_folder = \"\"\n",
    "\n",
    "file_name = [\"H41_ETC\", \"H23_ETC\"] \n",
    "\n",
    "exposure_time = [190, 190] \n",
    "\n",
    "orbits_in_transit = [2, 1] # floor(Transit duration / HST period ≈ 96 minutes)\n",
    "\n",
    "no_of_transits = [2, 6] \n",
    "\n",
    "wl = [2000,8000]\n",
    "\n",
    "startw = 2000\n",
    "\n",
    "endw = 8000\n",
    "\n",
    "binlen = 100\n",
    "\n",
    "out_name = \"10nm_transmission\"\n",
    "\n",
    "upc.UVIS_simulation(data_folder,file_name,exposure_time,orbits_in_transit,no_of_transits,wl,startw,endw,binlen,out_name)"
   ]
  },
  {
   "cell_type": "markdown",
   "metadata": {},
   "source": [
    "In the next cell we will plot the two datasets from Wakeford et al. (2020) against the simulated data from this calculator. "
   ]
  },
  {
   "cell_type": "code",
   "execution_count": 19,
   "metadata": {},
   "outputs": [],
   "source": [
    "######\n",
    "# Load\n",
    "######\n",
    "h23_sim = upc.read_UVIS(\"H23_ETC.UVIS_10nm_transmission_sim.csv\")\n",
    "h41_sim = upc.read_UVIS(\"H41_ETC_default.UVIS_10nm_transmission_sim.csv\")\n",
    "h41_data = np.loadtxt('H41_data_Wakeford2020.txt')\n",
    "\n",
    "######\n",
    "# Plot\n",
    "######\n",
    "fig, ax = plt.subplots(figsize=FIG_WIDE)\n",
    "\n",
    "upc.plot_prec(ax, h23_sim, label='HP23 ETC')\n",
    "upc.plot_prec(ax, h41_sim, label='HP41 ETC')\n",
    "upc.plot_prec_wakeford(ax, h41_data)\n",
    "ax.hlines(33, 100, 1000, color='k', linestyle='--')\n",
    "\n",
    "ax.set_xlim(180,820)\n",
    "ax.set_ylim(0,1000)\n",
    "\n",
    "ax.set_xlabel('Wavelength (nm)')\n",
    "ax.set_ylabel('Precision (ppm)')\n",
    "ax.legend(fontsize=10)\n",
    "\n",
    "plt.tight_layout()"
   ]
  },
  {
   "cell_type": "markdown",
   "metadata": {},
   "source": [
    "This shows that the simulator is a good approximation of the results presented in Wakeford et al. (2020) with some minor differences at the short and long wavelengths. Overall we expect this simulator to be used for proposal purposes only and is an approximation of the expected precision. "
   ]
  }
 ],
 "metadata": {
  "kernelspec": {
   "display_name": "Python 3",
   "language": "python",
   "name": "python3"
  },
  "language_info": {
   "codemirror_mode": {
    "name": "ipython",
    "version": 3
   },
   "file_extension": ".py",
   "mimetype": "text/x-python",
   "name": "python",
   "nbconvert_exporter": "python",
   "pygments_lexer": "ipython3",
   "version": "3.9.2"
  },
  "toc": {
   "base_numbering": 1,
   "nav_menu": {},
   "number_sections": false,
   "sideBar": false,
   "skip_h1_title": false,
   "title_cell": "Table of Contents",
   "title_sidebar": "Contents",
   "toc_cell": false,
   "toc_position": {},
   "toc_section_display": true,
   "toc_window_display": false
  }
 },
 "nbformat": 4,
 "nbformat_minor": 2
}
